{
 "cells": [
  {
   "cell_type": "code",
   "execution_count": null,
   "id": "e30c5911-03c8-4862-b704-710182d59280",
   "metadata": {},
   "outputs": [],
   "source": [
    "import random\n",
    "num2 = random.randint(1, 10)\n",
    "for attempt in range(3):\n",
    "    num = int(input(\"Enter a random number between 1 and 10: \"))\n",
    "\n",
    "    if num == num2:\n",
    "        print(\"Congrats !! You won\")\n",
    "        break  # Exit the loop if the guess is correct\n",
    "    else:\n",
    "        print(\"Incorrect, please try again.\")\n",
    "\n",
    "    # Check if this was the last attempt\n",
    "    if attempt == 2:\n",
    "        print(\"Sorry, you've used all your chances. The correct number was\", num2)"
   ]
  },
  {
   "cell_type": "code",
   "execution_count": null,
   "id": "8ba75867-2082-4981-a603-8588b4d22a0e",
   "metadata": {},
   "outputs": [],
   "source": [
    "choices = [\"stone\", \"paper\", \"scissors\"]\n",
    "score1 = score2 = 0\n",
    "\n",
    "while score1 < 2 and score2 < 2:\n",
    "    p1 = input(\"Player 1, choose stone, paper, or scissors: \").lower()\n",
    "    p2 = input(\"Player 2, choose stone, paper, or scissors: \").lower()\n",
    "\n",
    "    if p1 not in choices or p2 not in choices:\n",
    "        print(\"Invalid choice, try again.\")\n",
    "        continue\n",
    "\n",
    "    if p1 == p2:\n",
    "        print(\"Draw!\")\n",
    "    elif (p1 == \"stone\" and p2 == \"scissors\") or (p1 == \"scissors\" and p2 == \"paper\") or (p1 == \"paper\" and p2 == \"stone\"):\n",
    "        score1 += 1\n",
    "        print(\"Player 1 wins this round!\")\n",
    "    else:\n",
    "        score2 += 1\n",
    "        print(\"Player 2 wins this round!\")\n",
    "\n",
    "    print(f\"Score: Player 1 = {score1}, Player 2 = {score2}\")\n",
    "\n",
    "print(\"Player 1 wins the game!\" if score1 == 2 else \"Player 2 wins the game!\")"
   ]
  }
 ],
 "metadata": {
  "kernelspec": {
   "display_name": "Python 3 (ipykernel)",
   "language": "python",
   "name": "python3"
  },
  "language_info": {
   "codemirror_mode": {
    "name": "ipython",
    "version": 3
   },
   "file_extension": ".py",
   "mimetype": "text/x-python",
   "name": "python",
   "nbconvert_exporter": "python",
   "pygments_lexer": "ipython3",
   "version": "3.13.0"
  }
 },
 "nbformat": 4,
 "nbformat_minor": 5
}
